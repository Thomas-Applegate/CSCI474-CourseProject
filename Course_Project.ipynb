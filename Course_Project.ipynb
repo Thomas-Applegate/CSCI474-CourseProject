{
 "cells": [
  {
   "cell_type": "code",
   "execution_count": 3,
   "id": "bead0a2d-f6b9-4619-8bb9-20f6dde310b9",
   "metadata": {},
   "outputs": [],
   "source": [
    "import nistrng as nst\n",
    "from nistrng.sp800_22r1a import *\n",
    "from nistrng import Test, Result\n",
    "import random\n",
    "import numpy as np\n",
    "import pandas as pd"
   ]
  },
  {
   "cell_type": "code",
   "execution_count": 4,
   "id": "47b35b5f-327e-4d30-8eab-95baefe6bc8d",
   "metadata": {},
   "outputs": [],
   "source": [
    "SP800_22R1A_BATTERY: dict = {\n",
    "                                \"monobit\": MonobitTest(),\n",
    "                                \"frequency_within_block\": FrequencyWithinBlockTest(),\n",
    "                                \"runs\": RunsTest(),\n",
    "                                \"longest_run_ones_in_a_block\": LongestRunOnesInABlockTest(),\n",
    "                                \"binary_matrix_rank\": BinaryMatrixRankTest(),\n",
    "                                \"dft\": DiscreteFourierTransformTest(),\n",
    "                                \"non_overlapping_template_matching\": NonOverlappingTemplateMatchingTest(),\n",
    "                                \"overlapping_template_matching\": OverlappingTemplateMatchingTest(),\n",
    "                                \"maurers_universal\": MaurersUniversalTest(),\n",
    "                                \"linear_complexity\": LinearComplexityTest(),\n",
    "                                \"serial\": SerialTest(),\n",
    "                                \"approximate_entropy\": ApproximateEntropyTest(),\n",
    "                                \"cumulative sums\": CumulativeSumsTest(),\n",
    "                                \"random_excursion\": RandomExcursionTest(),\n",
    "                                \"random_excursion_variant\": RandomExcursionVariantTest()\n",
    "                            }"
   ]
  },
  {
   "cell_type": "code",
   "execution_count": 5,
   "id": "1f489395-e65c-44e1-ba96-6b98295f1ec5",
   "metadata": {},
   "outputs": [],
   "source": [
    "#given a list of strings that represent random hex values, return an array of array's of the bits for each hex value\n",
    "def true_rand_bin(hex):\n",
    "    bin = []\n",
    "    input = []\n",
    "    for h in hex:\n",
    "        b = \"{0:08b}\".format(int(h, 16))\n",
    "        bin.append(b)\n",
    "        temp = []\n",
    "        for i in b:\n",
    "            temp.append(int(i))\n",
    "        input.append(np.array(temp))\n",
    "    return input"
   ]
  },
  {
   "cell_type": "code",
   "execution_count": 6,
   "id": "7f81af52-ed4f-453c-84aa-0400e07bf679",
   "metadata": {},
   "outputs": [],
   "source": [
    "#generate a list of three pseudo-random binary numbers in the correct format for the tests\n",
    "def pseduo_rand_bin():\n",
    "    random.seed(10)\n",
    "    inputs = []\n",
    "    for i in range(3):\n",
    "        temp = []\n",
    "        for j in range(256):\n",
    "            bin = random.randint(0, 1)\n",
    "            temp.append(bin)\n",
    "        inputs.append(np.array(temp))\n",
    "    return inputs"
   ]
  },
  {
   "cell_type": "code",
   "execution_count": 7,
   "id": "f19fc261-d945-4904-b20d-fc1bc87986ed",
   "metadata": {},
   "outputs": [],
   "source": [
    "#inputs is a list of inputs and it will run all eligible tests\n",
    "def run_tests(inputs):\n",
    "    scores = []\n",
    "    for num in inputs:\n",
    "        eligible_battery: dict = nst.check_eligibility_all_battery(num, SP800_22R1A_BATTERY)\n",
    "        results = nst.run_all_battery(num, eligible_battery, False)\n",
    "        ind_res = []\n",
    "        for result, elasped_time in results:\n",
    "            if result.passed:\n",
    "                new_row = (result.name, \"Passed\", result.score, elasped_time)\n",
    "                ind_res.append(new_row)\n",
    "            else: \n",
    "                new_row = (result.name, \"Passed\", result.score, elasped_time)\n",
    "                ind_res.append(new_row)\n",
    "        scores.append(ind_res)\n",
    "    return scores"
   ]
  },
  {
   "cell_type": "code",
   "execution_count": 8,
   "id": "38297c3a-23a8-45c8-bb06-dd12c988dfd2",
   "metadata": {},
   "outputs": [],
   "source": [
    "hex_true_rand = [\"e3bf00dc0aad2d180da829e5c620c6046fd726e36a1b2336e1067598ba307549\", \"f82897fe6abf801a7354271dc31e0b88e4f5da26bd4d64ac5076de173946a95c\", \"d3587c8bebd2b4e89626b4eca0d4b044256e4691610a6eb93aec7115249c58b5\"]\n",
    "true_rand_in = true_rand_bin(hex_true_rand)\n",
    "tr_results = run_tests(true_rand_in)"
   ]
  },
  {
   "cell_type": "code",
   "execution_count": 9,
   "id": "e95ca391-c0e5-47e1-9cfe-2a06f1a8f2f9",
   "metadata": {},
   "outputs": [],
   "source": [
    "pseudo_rand = pseduo_rand_bin()\n",
    "pr_results = run_tests(pseudo_rand)"
   ]
  },
  {
   "cell_type": "code",
   "execution_count": null,
   "id": "841b5157-393c-44d1-9e5c-7dffdbf8ad6b",
   "metadata": {},
   "outputs": [],
   "source": []
  }
 ],
 "metadata": {
  "kernelspec": {
   "display_name": "Python 3 (ipykernel)",
   "language": "python",
   "name": "python3"
  },
  "language_info": {
   "codemirror_mode": {
    "name": "ipython",
    "version": 3
   },
   "file_extension": ".py",
   "mimetype": "text/x-python",
   "name": "python",
   "nbconvert_exporter": "python",
   "pygments_lexer": "ipython3",
   "version": "3.10.9"
  }
 },
 "nbformat": 4,
 "nbformat_minor": 5
}
