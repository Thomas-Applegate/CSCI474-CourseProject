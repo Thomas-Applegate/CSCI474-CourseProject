{
 "cells": [
  {
   "cell_type": "code",
   "execution_count": 12,
   "id": "174eb8f0",
   "metadata": {},
   "outputs": [],
   "source": [
    "import nistrng as nst\n",
    "from nistrng.sp800_22r1a import *\n",
    "from nistrng import Test, Result\n",
    "import random\n",
    "import numpy as np\n",
    "import pandas as pd\n",
    "from Crypto.Hash import SHA256"
   ]
  },
  {
   "cell_type": "code",
   "execution_count": 2,
   "id": "c42318de",
   "metadata": {},
   "outputs": [],
   "source": [
    "SP800_22R1A_BATTERY: dict = {\n",
    "                                \"monobit\": MonobitTest(),\n",
    "                                \"frequency_within_block\": FrequencyWithinBlockTest(),\n",
    "                                \"runs\": RunsTest(),\n",
    "                                \"longest_run_ones_in_a_block\": LongestRunOnesInABlockTest(),\n",
    "                                \"binary_matrix_rank\": BinaryMatrixRankTest(),\n",
    "                                \"dft\": DiscreteFourierTransformTest(),\n",
    "                                \"non_overlapping_template_matching\": NonOverlappingTemplateMatchingTest(),\n",
    "                                \"overlapping_template_matching\": OverlappingTemplateMatchingTest(),\n",
    "                                \"maurers_universal\": MaurersUniversalTest(),\n",
    "                                \"linear_complexity\": LinearComplexityTest(),\n",
    "                                \"serial\": SerialTest(),\n",
    "                                \"approximate_entropy\": ApproximateEntropyTest(),\n",
    "                                \"cumulative sums\": CumulativeSumsTest(),\n",
    "                                \"random_excursion\": RandomExcursionTest(),\n",
    "                                \"random_excursion_variant\": RandomExcursionVariantTest()\n",
    "                            }"
   ]
  },
  {
   "cell_type": "code",
   "execution_count": 3,
   "id": "57fa0682",
   "metadata": {},
   "outputs": [],
   "source": [
    "#given a list of strings that represent random hex values, return an array of array's of the bits for each hex value\n",
    "def true_rand_bin(hex):\n",
    "    bin = []\n",
    "    inputs = []\n",
    "    for h in hex:\n",
    "        b = \"{0:08b}\".format(int(h, 16))\n",
    "        bin.append(b)\n",
    "        temp = []\n",
    "        for i in b:\n",
    "            temp.append(int(i))\n",
    "        inputs.append(np.array(temp))\n",
    "    return inputs"
   ]
  },
  {
   "cell_type": "code",
   "execution_count": 4,
   "id": "7f8b9252",
   "metadata": {},
   "outputs": [],
   "source": [
    "#generate a list of three pseudo-random binary numbers in the correct format for the tests\n",
    "def pseduo_rand_bin():\n",
    "    random.seed(10)\n",
    "    inputs = []\n",
    "    for i in range(3):\n",
    "        temp = []\n",
    "        for j in range(256):\n",
    "            bin = random.randint(0, 1)\n",
    "            temp.append(bin)\n",
    "        inputs.append(np.array(temp))\n",
    "    return inputs"
   ]
  },
  {
   "cell_type": "code",
   "execution_count": 19,
   "id": "a707482b",
   "metadata": {},
   "outputs": [],
   "source": [
    "#generate a list of three deskewed random numbers and returns a list of inputs in the correct form\n",
    "def deskewed_rand_bin(hex):\n",
    "    inputs = []\n",
    "    for h in hex:\n",
    "        hash_func = SHA256.new()\n",
    "        byte = bytes.fromhex(h)\n",
    "        hash_func.update(byte)\n",
    "        bin_num = \"{0:0256b}\".format(int(hash_func.hexdigest(), 16))\n",
    "        temp = []\n",
    "        for i in bin_num:\n",
    "            temp.append(int(i))\n",
    "        inputs.append(np.array(temp))\n",
    "    return inputs"
   ]
  },
  {
   "cell_type": "code",
   "execution_count": 6,
   "id": "8bb3da1a",
   "metadata": {},
   "outputs": [],
   "source": [
    "#inputs is a list of numpy array binary numbers and it will run all eligible\n",
    "# tests. It returns a list of lists. The internal lists contains tuples of\n",
    "# the format (test name, pass/fail, score, time_elapsed)\n",
    "def run_tests(inputs):\n",
    "    scores = []\n",
    "    for num in inputs:\n",
    "        eligible_battery: dict = nst.check_eligibility_all_battery(num, SP800_22R1A_BATTERY)\n",
    "        results = nst.run_all_battery(num, eligible_battery, False)\n",
    "        ind_res = []\n",
    "        for result, elasped_time in results:\n",
    "            if result.passed:\n",
    "                new_row = (result.name, \"Passed\", result.score, elasped_time)\n",
    "                ind_res.append(new_row)\n",
    "            else: \n",
    "                new_row = (result.name, \"Passed\", result.score, elasped_time)\n",
    "                ind_res.append(new_row)\n",
    "        scores.append(ind_res)\n",
    "    return scores"
   ]
  },
  {
   "cell_type": "code",
   "execution_count": 7,
   "id": "f547dc14",
   "metadata": {},
   "outputs": [],
   "source": [
    "#I generated these from random.org\n",
    "hex_true_rand = [\"e3bf00dc0aad2d180da829e5c620c6046fd726e36a1b2336e1067598ba307549\", \"f82897fe6abf801a7354271dc31e0b88e4f5da26bd4d64ac5076de173946a95c\", \"d3587c8bebd2b4e89626b4eca0d4b044256e4691610a6eb93aec7115249c58b5\"]\n",
    "true_rand = true_rand_bin(hex_true_rand)\n",
    "tr_results = run_tests(true_rand)"
   ]
  },
  {
   "cell_type": "code",
   "execution_count": 10,
   "id": "a8732881",
   "metadata": {},
   "outputs": [],
   "source": [
    "pseudo_rand = pseduo_rand_bin()\n",
    "pr_results = run_tests(pseudo_rand)"
   ]
  },
  {
   "cell_type": "code",
   "execution_count": 20,
   "id": "d027552f",
   "metadata": {},
   "outputs": [
    {
     "data": {
      "text/plain": [
       "[[('Monobit', 'Passed', 0.9005235503397742, 0),\n",
       "  ('Frequency Within Block', 'Passed', 0.9056661653940268, 22),\n",
       "  ('Runs', 'Passed', 0.16880288768959806, 0),\n",
       "  ('Longest Run Ones In A Block', 'Passed', 0.6444910198129761, 0),\n",
       "  ('Discrete Fourier Transform', 'Passed', 0.4220007050375903, 17),\n",
       "  ('Non Overlapping Template Matching', 'Passed', 0.0639851580720288, 8),\n",
       "  ('Serial', 'Passed', 0.43539761473098604, 17),\n",
       "  ('Approximate Entropy', 'Passed', 0.48550761867709624, 8),\n",
       "  ('Cumulative Sums', 'Passed', 0.9683657653169909, 0),\n",
       "  ('Random Excursion', 'Passed', 0.21647318712803154, 8),\n",
       "  ('Random Excursion Variant', 'Passed', 0.3700824680808934, 10)],\n",
       " [('Monobit', 'Passed', 0.9005235503397742, 0),\n",
       "  ('Frequency Within Block', 'Passed', 0.8705423698828115, 0),\n",
       "  ('Runs', 'Passed', 0.8997443903520057, 0),\n",
       "  ('Longest Run Ones In A Block', 'Passed', 0.00784436122057749, 0),\n",
       "  ('Discrete Fourier Transform', 'Passed', 0.7307533347220154, 0),\n",
       "  ('Non Overlapping Template Matching', 'Passed', 0.6721080368094786, 0),\n",
       "  ('Serial', 'Passed', 0.7141045355115323, 8),\n",
       "  ('Approximate Entropy', 'Passed', 0.4291457137188004, 8),\n",
       "  ('Cumulative Sums', 'Passed', 0.745352496395963, 0),\n",
       "  ('Random Excursion', 'Passed', 0.0948438283614906, 0),\n",
       "  ('Random Excursion Variant', 'Passed', 0.33400480915946024, 0)],\n",
       " [('Monobit', 'Passed', 0.5319710580974011, 0),\n",
       "  ('Frequency Within Block', 'Passed', 0.3007082761743609, 0),\n",
       "  ('Runs', 'Passed', 0.16104887129244852, 0),\n",
       "  ('Longest Run Ones In A Block', 'Passed', 0.28359768639404703, 0),\n",
       "  ('Discrete Fourier Transform', 'Passed', 0.4220007050375903, 0),\n",
       "  ('Non Overlapping Template Matching', 'Passed', 0.7019820373689523, 0),\n",
       "  ('Serial', 'Passed', 0.23246685851538235, 16),\n",
       "  ('Approximate Entropy', 'Passed', 0.35675099543893896, 0),\n",
       "  ('Cumulative Sums', 'Passed', 0.6182515930938777, 0),\n",
       "  ('Random Excursion', 'Passed', 0.2803804703811159, 9),\n",
       "  ('Random Excursion Variant', 'Passed', 0.22133474572780573, 0)]]"
      ]
     },
     "execution_count": 20,
     "metadata": {},
     "output_type": "execute_result"
    }
   ],
   "source": [
    "#I generated these numbers from codebeautify.org\n",
    "hex_deskew_rand = [\"8a72b640e033294f70d491e6f2786620e69b4720f7777815002874627aca1e65\", \"d15751fef5f775306106fd29cd44fd5a549d40dcfea7f5af834c8d70ed094b88\", \"85f64b25b03612d544b2bb7bfa175afbab6c18c8beed35e6e22f841bbe31dbee\"]\n",
    "deskew_rand = deskewed_rand_bin(hex_deskew_rand)\n",
    "dr_results = run_tests(deskew_rand)"
   ]
  }
 ],
 "metadata": {
  "kernelspec": {
   "display_name": "Python 3 (ipykernel)",
   "language": "python",
   "name": "python3"
  },
  "language_info": {
   "codemirror_mode": {
    "name": "ipython",
    "version": 3
   },
   "file_extension": ".py",
   "mimetype": "text/x-python",
   "name": "python",
   "nbconvert_exporter": "python",
   "pygments_lexer": "ipython3",
   "version": "3.10.9"
  }
 },
 "nbformat": 4,
 "nbformat_minor": 5
}
