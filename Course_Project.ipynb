{
 "cells": [
  {
   "cell_type": "code",
   "execution_count": 128,
   "id": "bead0a2d-f6b9-4619-8bb9-20f6dde310b9",
   "metadata": {},
   "outputs": [],
   "source": [
    "import nistrng as nst\n",
    "from nistrng.sp800_22r1a import *\n",
    "import random\n",
    "import numpy as np\n",
    "import pandas as pd"
   ]
  },
  {
   "cell_type": "code",
   "execution_count": 95,
   "id": "1f489395-e65c-44e1-ba96-6b98295f1ec5",
   "metadata": {},
   "outputs": [],
   "source": [
    "#given a list of strings that represent random hex values, return an array of array's of the bits for each hex value\n",
    "def true_rand_bin(hex):\n",
    "    bin = []\n",
    "    input = []\n",
    "    for h in hex:\n",
    "        b = \"{0:08b}\".format(int(h, 16))\n",
    "        bin.append(b)\n",
    "        temp = []\n",
    "        for i in b:\n",
    "            temp.append(int(i))\n",
    "        input.append(np.array(temp))\n",
    "    return input"
   ]
  },
  {
   "cell_type": "code",
   "execution_count": 96,
   "id": "5dd35929-9e3f-4993-8897-33d54424a959",
   "metadata": {},
   "outputs": [],
   "source": [
    "hex_true_rand = [\"e3bf00dc0aad2d180da829e5c620c6046fd726e36a1b2336e1067598ba307549\", \"f82897fe6abf801a7354271dc31e0b88e4f5da26bd4d64ac5076de173946a95c\", \"d3587c8bebd2b4e89626b4eca0d4b044256e4691610a6eb93aec7115249c58b5\"]\n",
    "true_rand_in = true_rand_bin(hex_true_rand)"
   ]
  },
  {
   "cell_type": "code",
   "execution_count": 125,
   "id": "f19fc261-d945-4904-b20d-fc1bc87986ed",
   "metadata": {},
   "outputs": [],
   "source": [
    "def run_tests(inputs):\n",
    "    scores = []\n",
    "    for num in inputs:\n",
    "        eligible_battery: dict = nst.check_eligibility_all_battery(num, SP800_22R1A_BATTERY)\n",
    "        results = nst.run_all_battery(num, eligible_battery, False)\n",
    "        for result, elasped_time in results:\n",
    "            if result.passed:\n",
    "                new_row = (result.name, \"Passed\", result.score, elasped_time)\n",
    "                scores.append(new_row)\n",
    "            else: \n",
    "                new_row = (result.name, \"Passed\", result.score, elasped_time)\n",
    "                scores.append(new_row)\n",
    "    return scores"
   ]
  },
  {
   "cell_type": "code",
   "execution_count": 127,
   "id": "38297c3a-23a8-45c8-bb06-dd12c988dfd2",
   "metadata": {},
   "outputs": [
    {
     "name": "stdout",
     "output_type": "stream",
     "text": [
      "[('Monobit', 'Passed', 0.21129954733371056, 0), ('Frequency Within Block', 'Passed', 0.8155562560569334, 0), ('Runs', 'Passed', 0.7802088194570171, 0), ('Longest Run Ones In A Block', 'Passed', 0.008903527038229532, 0), ('Discrete Fourier Transform', 'Passed', 0.8185458083820408, 1), ('Non Overlapping Template Matching', 'Passed', 0.8948354728334884, 1), ('Serial', 'Passed', 0.5172141269096935, 12), ('Approximate Entropy', 'Passed', 0.12735780852635734, 5), ('Cumulative Sums', 'Passed', 0.2693873127926786, 0), ('Random Excursion', 'Passed', 0.19595759208921693, 3), ('Random Excursion Variant', 'Passed', 0.25668104117981316, 0), ('Monobit', 'Passed', 0.8025873486341526, 0), ('Frequency Within Block', 'Passed', 0.8441185338473761, 0), ('Runs', 'Passed', 0.7995200838206925, 0), ('Longest Run Ones In A Block', 'Passed', 0.4056298971046328, 0), ('Discrete Fourier Transform', 'Passed', 0.8185458083820408, 1), ('Non Overlapping Template Matching', 'Passed', 0.857123460498547, 0), ('Serial', 'Passed', 0.6581936456960162, 12), ('Approximate Entropy', 'Passed', 0.882787705638323, 5), ('Cumulative Sums', 'Passed', 0.8888661437219394, 1), ('Random Excursion', 'Passed', 0.32393208617977426, 2), ('Random Excursion Variant', 'Passed', 0.783328982771993, 1), ('Monobit', 'Passed', 0.38157390570502125, 0), ('Frequency Within Block', 'Passed', 0.6684384852977383, 0), ('Runs', 'Passed', 0.007343119021581434, 1), ('Longest Run Ones In A Block', 'Passed', 0.011612382367918329, 0), ('Discrete Fourier Transform', 'Passed', 0.42200070503759035, 0), ('Non Overlapping Template Matching', 'Passed', 0.0, 1), ('Serial', 'Passed', 0.2471010963089258, 13), ('Approximate Entropy', 'Passed', 0.0867913534798508, 7), ('Cumulative Sums', 'Passed', 0.46517111603749883, 0), ('Random Excursion', 'Passed', 0.3066462031416624, 2), ('Random Excursion Variant', 'Passed', 0.36620819450590814, 0)]\n"
     ]
    }
   ],
   "source": [
    "results = run_tests(true_rand_in)"
   ]
  }
 ],
 "metadata": {
  "kernelspec": {
   "display_name": "Python 3 (ipykernel)",
   "language": "python",
   "name": "python3"
  },
  "language_info": {
   "codemirror_mode": {
    "name": "ipython",
    "version": 3
   },
   "file_extension": ".py",
   "mimetype": "text/x-python",
   "name": "python",
   "nbconvert_exporter": "python",
   "pygments_lexer": "ipython3",
   "version": "3.9.18"
  }
 },
 "nbformat": 4,
 "nbformat_minor": 5
}
